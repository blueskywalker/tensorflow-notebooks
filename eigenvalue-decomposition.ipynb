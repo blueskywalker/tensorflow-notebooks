{
 "cells": [
  {
   "cell_type": "markdown",
   "source": [
    "# Eigenvalue Decomposition\n",
    "$$ A = UDU^{-1} $$\n",
    "where\n",
    "\n",
    "A is a real square matrix with dimensions . We use real numbers only for the sake of simplicity. Extension to complex numbers is straightforward.\n",
    "U is  square matrix with the eigenvectors of  as column vectors.\n",
    "D is a  diagonal matrix. The diagonal values in  are the eigenvalues of . These are non-negative numbers that are usually presented in decreasing order."
   ],
   "metadata": {
    "collapsed": false
   },
   "id": "df3482d91779d4ff"
  },
  {
   "cell_type": "code",
   "outputs": [],
   "source": [],
   "metadata": {
    "collapsed": false
   },
   "id": "798a263e5db9c921"
  }
 ],
 "metadata": {
  "kernelspec": {
   "display_name": "Python 3",
   "language": "python",
   "name": "python3"
  },
  "language_info": {
   "codemirror_mode": {
    "name": "ipython",
    "version": 2
   },
   "file_extension": ".py",
   "mimetype": "text/x-python",
   "name": "python",
   "nbconvert_exporter": "python",
   "pygments_lexer": "ipython2",
   "version": "2.7.6"
  }
 },
 "nbformat": 4,
 "nbformat_minor": 5
}
