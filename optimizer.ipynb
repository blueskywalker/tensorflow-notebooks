{
 "cells": [
  {
   "cell_type": "code",
   "execution_count": 3,
   "id": "initial_id",
   "metadata": {
    "collapsed": true,
    "ExecuteTime": {
     "end_time": "2024-01-15T04:41:28.549008Z",
     "start_time": "2024-01-15T04:41:28.536507Z"
    }
   },
   "outputs": [
    {
     "data": {
      "text/plain": "<tf.Variable 'UnreadVariable' shape=() dtype=int64, numpy=1>"
     },
     "execution_count": 3,
     "metadata": {},
     "output_type": "execute_result"
    }
   ],
   "source": [
    "import tensorflow as tf\n",
    "import keras\n",
    "# Create an optimizer with the desired parameters.\n",
    "opt = keras.optimizers.legacy.SGD(learning_rate=0.1)\n",
    "var1, var2 = tf.Variable(1.0), tf.Variable(2.0)\n",
    "# `loss` is a callable that takes no argument and returns the value\n",
    "# to minimize.\n",
    "loss = lambda: 3 * var1 * var1 + 2 * var2 * var2\n",
    "# Call minimize to update the list of variables.\n",
    "opt.minimize(loss, var_list=[var1, var2])"
   ]
  },
  {
   "cell_type": "code",
   "outputs": [
    {
     "data": {
      "text/plain": "<tf.Variable 'UnreadVariable' shape=() dtype=int64, numpy=1>"
     },
     "execution_count": 5,
     "metadata": {},
     "output_type": "execute_result"
    }
   ],
   "source": [
    "# Create an optimizer.\n",
    "opt = tf.keras.optimizers.legacy.SGD(learning_rate=0.1)\n",
    "var1, var2 = tf.Variable(1.0), tf.Variable(2.0)\n",
    "\n",
    "# Compute the gradients for a list of variables.\n",
    "with tf.GradientTape() as tape:\n",
    "    loss = 3 * var1 * var1 + 2 * var2 * var2\n",
    "grads = tape.gradient(loss, [var1, var2])\n",
    "\n",
    "# Process the gradients.\n",
    "grads[0] = grads[0] + 1\n",
    "\n",
    "# Ask the optimizer to apply the gradients on variables.\n",
    "opt.apply_gradients(zip(grads, [var1, var2]))"
   ],
   "metadata": {
    "collapsed": false,
    "ExecuteTime": {
     "end_time": "2024-01-15T04:42:56.979198Z",
     "start_time": "2024-01-15T04:42:56.971016Z"
    }
   },
   "id": "fd64be336f270e95",
   "execution_count": 5
  },
  {
   "cell_type": "code",
   "outputs": [
    {
     "name": "stdout",
     "output_type": "stream",
     "text": [
      "<tf.Variable 'Variable:0' shape=(1,) dtype=float64, numpy=array([0.12175039])>\n"
     ]
    },
    {
     "data": {
      "text/plain": "<tf.Variable 'UnreadVariable' shape=() dtype=int64, numpy=1>"
     },
     "execution_count": 18,
     "metadata": {},
     "output_type": "execute_result"
    }
   ],
   "source": [
    "import numpy as np\n",
    "var = tf.Variable(np.random.random(size=(1,)))\n",
    "print(var)\n",
    "learning_rate = tf.keras.optimizers.schedules.ExponentialDecay(\n",
    "    initial_learning_rate=.01, decay_steps=20, decay_rate=.1)\n",
    "opt = tf.keras.optimizers.legacy.SGD(learning_rate=learning_rate)\n",
    "loss = lambda: 3 * var\n",
    "opt.minimize(loss, var_list=[var])\n"
   ],
   "metadata": {
    "collapsed": false,
    "ExecuteTime": {
     "end_time": "2024-01-15T06:57:23.048852Z",
     "start_time": "2024-01-15T06:57:23.041866Z"
    }
   },
   "id": "c03c4c216b80e578",
   "execution_count": 18
  },
  {
   "cell_type": "code",
   "outputs": [
    {
     "ename": "TypeError",
     "evalue": "Unexpected keyword argument passed to optimizer: weight_decay. Allowed kwargs are {'global_clipnorm', 'decay', 'clipvalue', 'lr', 'clipnorm'}.",
     "output_type": "error",
     "traceback": [
      "\u001B[0;31m---------------------------------------------------------------------------\u001B[0m",
      "\u001B[0;31mTypeError\u001B[0m                                 Traceback (most recent call last)",
      "Cell \u001B[0;32mIn[10], line 1\u001B[0m\n\u001B[0;32m----> 1\u001B[0m opt \u001B[38;5;241m=\u001B[39m \u001B[43mtf\u001B[49m\u001B[38;5;241;43m.\u001B[39;49m\u001B[43mkeras\u001B[49m\u001B[38;5;241;43m.\u001B[39;49m\u001B[43moptimizers\u001B[49m\u001B[38;5;241;43m.\u001B[39;49m\u001B[43mlegacy\u001B[49m\u001B[38;5;241;43m.\u001B[39;49m\u001B[43mSGD\u001B[49m\u001B[43m(\u001B[49m\u001B[38;5;241;43m1\u001B[39;49m\u001B[43m,\u001B[49m\u001B[43m \u001B[49m\u001B[43mweight_decay\u001B[49m\u001B[38;5;241;43m=\u001B[39;49m\u001B[38;5;241;43m0.004\u001B[39;49m\u001B[43m)\u001B[49m\n\u001B[1;32m      2\u001B[0m grads, var1, var2 \u001B[38;5;241m=\u001B[39m tf\u001B[38;5;241m.\u001B[39mzeros(()), tf\u001B[38;5;241m.\u001B[39mVariable(\u001B[38;5;241m2.0\u001B[39m), tf\u001B[38;5;241m.\u001B[39mVariable(\u001B[38;5;241m2.0\u001B[39m)\n\u001B[1;32m      3\u001B[0m \u001B[38;5;66;03m# You can exclude variables from weight decay, in this case we\u001B[39;00m\n\u001B[1;32m      4\u001B[0m \u001B[38;5;66;03m# exclude `var2`.\u001B[39;00m\n",
      "File \u001B[0;32m~/workspace/deep-learning/tensorflow/venv/lib/python3.11/site-packages/keras/src/optimizers/legacy/gradient_descent.py:114\u001B[0m, in \u001B[0;36mSGD.__init__\u001B[0;34m(self, learning_rate, momentum, nesterov, name, **kwargs)\u001B[0m\n\u001B[1;32m    106\u001B[0m \u001B[38;5;28;01mdef\u001B[39;00m \u001B[38;5;21m__init__\u001B[39m(\n\u001B[1;32m    107\u001B[0m     \u001B[38;5;28mself\u001B[39m,\n\u001B[1;32m    108\u001B[0m     learning_rate\u001B[38;5;241m=\u001B[39m\u001B[38;5;241m0.01\u001B[39m,\n\u001B[0;32m   (...)\u001B[0m\n\u001B[1;32m    112\u001B[0m     \u001B[38;5;241m*\u001B[39m\u001B[38;5;241m*\u001B[39mkwargs,\n\u001B[1;32m    113\u001B[0m ):\n\u001B[0;32m--> 114\u001B[0m     \u001B[38;5;28;43msuper\u001B[39;49m\u001B[43m(\u001B[49m\u001B[43m)\u001B[49m\u001B[38;5;241;43m.\u001B[39;49m\u001B[38;5;21;43m__init__\u001B[39;49m\u001B[43m(\u001B[49m\u001B[43mname\u001B[49m\u001B[43m,\u001B[49m\u001B[43m \u001B[49m\u001B[38;5;241;43m*\u001B[39;49m\u001B[38;5;241;43m*\u001B[39;49m\u001B[43mkwargs\u001B[49m\u001B[43m)\u001B[49m\n\u001B[1;32m    115\u001B[0m     \u001B[38;5;28mself\u001B[39m\u001B[38;5;241m.\u001B[39m_set_hyper(\u001B[38;5;124m\"\u001B[39m\u001B[38;5;124mlearning_rate\u001B[39m\u001B[38;5;124m\"\u001B[39m, kwargs\u001B[38;5;241m.\u001B[39mget(\u001B[38;5;124m\"\u001B[39m\u001B[38;5;124mlr\u001B[39m\u001B[38;5;124m\"\u001B[39m, learning_rate))\n\u001B[1;32m    116\u001B[0m     \u001B[38;5;28mself\u001B[39m\u001B[38;5;241m.\u001B[39m_set_hyper(\u001B[38;5;124m\"\u001B[39m\u001B[38;5;124mdecay\u001B[39m\u001B[38;5;124m\"\u001B[39m, \u001B[38;5;28mself\u001B[39m\u001B[38;5;241m.\u001B[39m_initial_decay)\n",
      "File \u001B[0;32m~/workspace/deep-learning/tensorflow/venv/lib/python3.11/site-packages/keras/src/optimizers/legacy/optimizer_v2.py:380\u001B[0m, in \u001B[0;36mOptimizerV2.__init__\u001B[0;34m(self, name, gradient_aggregator, gradient_transformers, **kwargs)\u001B[0m\n\u001B[1;32m    378\u001B[0m \u001B[38;5;28;01mfor\u001B[39;00m k \u001B[38;5;129;01min\u001B[39;00m kwargs:\n\u001B[1;32m    379\u001B[0m     \u001B[38;5;28;01mif\u001B[39;00m k \u001B[38;5;129;01mnot\u001B[39;00m \u001B[38;5;129;01min\u001B[39;00m allowed_kwargs:\n\u001B[0;32m--> 380\u001B[0m         \u001B[38;5;28;01mraise\u001B[39;00m \u001B[38;5;167;01mTypeError\u001B[39;00m(\n\u001B[1;32m    381\u001B[0m             \u001B[38;5;124m\"\u001B[39m\u001B[38;5;124mUnexpected keyword argument \u001B[39m\u001B[38;5;124m\"\u001B[39m\n\u001B[1;32m    382\u001B[0m             \u001B[38;5;124mf\u001B[39m\u001B[38;5;124m\"\u001B[39m\u001B[38;5;124mpassed to optimizer: \u001B[39m\u001B[38;5;132;01m{\u001B[39;00m\u001B[38;5;28mstr\u001B[39m(k)\u001B[38;5;132;01m}\u001B[39;00m\u001B[38;5;124m. Allowed kwargs are \u001B[39m\u001B[38;5;124m\"\u001B[39m\n\u001B[1;32m    383\u001B[0m             \u001B[38;5;124mf\u001B[39m\u001B[38;5;124m\"\u001B[39m\u001B[38;5;132;01m{\u001B[39;00mallowed_kwargs\u001B[38;5;132;01m}\u001B[39;00m\u001B[38;5;124m.\u001B[39m\u001B[38;5;124m\"\u001B[39m\n\u001B[1;32m    384\u001B[0m         )\n\u001B[1;32m    385\u001B[0m     \u001B[38;5;66;03m# checks that all keyword arguments are non-negative.\u001B[39;00m\n\u001B[1;32m    386\u001B[0m     \u001B[38;5;28;01mif\u001B[39;00m kwargs[k] \u001B[38;5;129;01mis\u001B[39;00m \u001B[38;5;129;01mnot\u001B[39;00m \u001B[38;5;28;01mNone\u001B[39;00m \u001B[38;5;129;01mand\u001B[39;00m kwargs[k] \u001B[38;5;241m<\u001B[39m \u001B[38;5;241m0\u001B[39m:\n",
      "\u001B[0;31mTypeError\u001B[0m: Unexpected keyword argument passed to optimizer: weight_decay. Allowed kwargs are {'global_clipnorm', 'decay', 'clipvalue', 'lr', 'clipnorm'}."
     ]
    }
   ],
   "source": [
    "opt = tf.keras.optimizers.legacy.SGD(1, weight_decay=0.004)\n",
    "grads, var1, var2 = tf.zeros(()), tf.Variable(2.0), tf.Variable(2.0)\n",
    "# You can exclude variables from weight decay, in this case we\n",
    "# exclude `var2`.\n",
    "opt.exclude_from_weight_decay(var_list=[var2])\n",
    "opt.apply_gradients(zip([grads, grads], [var1, var2]))\n",
    "print([var1.numpy(), var2.numpy()])\n"
   ],
   "metadata": {
    "collapsed": false,
    "ExecuteTime": {
     "end_time": "2024-01-15T04:57:15.249229Z",
     "start_time": "2024-01-15T04:57:15.197893Z"
    }
   },
   "id": "e54cd928d096684c",
   "execution_count": 10
  },
  {
   "cell_type": "code",
   "outputs": [],
   "source": [],
   "metadata": {
    "collapsed": false
   },
   "id": "82de9739c5859ce2"
  }
 ],
 "metadata": {
  "kernelspec": {
   "display_name": "Python 3",
   "language": "python",
   "name": "python3"
  },
  "language_info": {
   "codemirror_mode": {
    "name": "ipython",
    "version": 2
   },
   "file_extension": ".py",
   "mimetype": "text/x-python",
   "name": "python",
   "nbconvert_exporter": "python",
   "pygments_lexer": "ipython2",
   "version": "2.7.6"
  }
 },
 "nbformat": 4,
 "nbformat_minor": 5
}
