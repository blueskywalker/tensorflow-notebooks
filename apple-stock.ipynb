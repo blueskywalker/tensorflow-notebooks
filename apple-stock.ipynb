{
 "cells": [
  {
   "cell_type": "code",
   "execution_count": 23,
   "id": "initial_id",
   "metadata": {
    "collapsed": true,
    "ExecuteTime": {
     "end_time": "2024-01-22T05:14:37.937835Z",
     "start_time": "2024-01-22T05:14:37.930556Z"
    }
   },
   "outputs": [
    {
     "data": {
      "text/plain": "         Date Close/Last    Volume     Open     High       Low\n0  01/18/2024    $188.63  78005750  $186.09  $189.14   $185.83\n1  01/17/2024    $182.68  47317430  $181.27  $182.93   $180.30\n2  01/16/2024    $183.63  65603040  $182.16  $184.26  $180.934\n3  01/12/2024    $185.92  40477780  $186.06  $186.74   $185.19\n4  01/11/2024    $185.59  49128410  $186.54  $187.05   $183.62",
      "text/html": "<div>\n<style scoped>\n    .dataframe tbody tr th:only-of-type {\n        vertical-align: middle;\n    }\n\n    .dataframe tbody tr th {\n        vertical-align: top;\n    }\n\n    .dataframe thead th {\n        text-align: right;\n    }\n</style>\n<table border=\"1\" class=\"dataframe\">\n  <thead>\n    <tr style=\"text-align: right;\">\n      <th></th>\n      <th>Date</th>\n      <th>Close/Last</th>\n      <th>Volume</th>\n      <th>Open</th>\n      <th>High</th>\n      <th>Low</th>\n    </tr>\n  </thead>\n  <tbody>\n    <tr>\n      <th>0</th>\n      <td>01/18/2024</td>\n      <td>$188.63</td>\n      <td>78005750</td>\n      <td>$186.09</td>\n      <td>$189.14</td>\n      <td>$185.83</td>\n    </tr>\n    <tr>\n      <th>1</th>\n      <td>01/17/2024</td>\n      <td>$182.68</td>\n      <td>47317430</td>\n      <td>$181.27</td>\n      <td>$182.93</td>\n      <td>$180.30</td>\n    </tr>\n    <tr>\n      <th>2</th>\n      <td>01/16/2024</td>\n      <td>$183.63</td>\n      <td>65603040</td>\n      <td>$182.16</td>\n      <td>$184.26</td>\n      <td>$180.934</td>\n    </tr>\n    <tr>\n      <th>3</th>\n      <td>01/12/2024</td>\n      <td>$185.92</td>\n      <td>40477780</td>\n      <td>$186.06</td>\n      <td>$186.74</td>\n      <td>$185.19</td>\n    </tr>\n    <tr>\n      <th>4</th>\n      <td>01/11/2024</td>\n      <td>$185.59</td>\n      <td>49128410</td>\n      <td>$186.54</td>\n      <td>$187.05</td>\n      <td>$183.62</td>\n    </tr>\n  </tbody>\n</table>\n</div>"
     },
     "execution_count": 23,
     "metadata": {},
     "output_type": "execute_result"
    }
   ],
   "source": [
    "import numpy as np\n",
    "import pandas as pd\n",
    "\n",
    "data = pd.read_csv('data/apple.csv')\n",
    "data.head()"
   ]
  },
  {
   "cell_type": "code",
   "outputs": [
    {
     "data": {
      "text/plain": "Date          object\nClose/Last    object\nVolume         int64\nOpen          object\nHigh          object\nLow           object\ndtype: object"
     },
     "execution_count": 24,
     "metadata": {},
     "output_type": "execute_result"
    }
   ],
   "source": [
    "data.dtypes"
   ],
   "metadata": {
    "collapsed": false,
    "ExecuteTime": {
     "end_time": "2024-01-22T05:14:37.942136Z",
     "start_time": "2024-01-22T05:14:37.938737Z"
    }
   },
   "id": "e24b2065f6941b7f",
   "execution_count": 24
  },
  {
   "cell_type": "code",
   "outputs": [
    {
     "data": {
      "text/plain": "Date          datetime64[ns]\nClose/Last           float64\nVolume                 int64\nOpen                 float64\nHigh                 float64\nLow                  float64\ndtype: object"
     },
     "execution_count": 25,
     "metadata": {},
     "output_type": "execute_result"
    }
   ],
   "source": [
    "import re\n",
    "# tidy up the date\n",
    "columns_to_be_cleaned = ['Open', 'High', 'Low', 'Close/Last']\n",
    "for column in columns_to_be_cleaned:\n",
    "    data[column] = data[column].apply(lambda x: re.sub(r'[$,]', '', x))\n",
    "    data[column] = data[column].astype('float')\n",
    "\n",
    "data['Date'] = pd.to_datetime(data['Date'])\n",
    "data.dtypes"
   ],
   "metadata": {
    "collapsed": false,
    "ExecuteTime": {
     "end_time": "2024-01-22T05:14:37.961959Z",
     "start_time": "2024-01-22T05:14:37.949912Z"
    }
   },
   "id": "b15b2930d5ba9488",
   "execution_count": 25
  },
  {
   "cell_type": "code",
   "outputs": [],
   "source": [],
   "metadata": {
    "collapsed": false,
    "ExecuteTime": {
     "end_time": "2024-01-22T05:14:37.963501Z",
     "start_time": "2024-01-22T05:14:37.952295Z"
    }
   },
   "id": "6bc9981f98ea333f",
   "execution_count": 25
  }
 ],
 "metadata": {
  "kernelspec": {
   "display_name": "Python 3",
   "language": "python",
   "name": "python3"
  },
  "language_info": {
   "codemirror_mode": {
    "name": "ipython",
    "version": 2
   },
   "file_extension": ".py",
   "mimetype": "text/x-python",
   "name": "python",
   "nbconvert_exporter": "python",
   "pygments_lexer": "ipython2",
   "version": "2.7.6"
  }
 },
 "nbformat": 4,
 "nbformat_minor": 5
}
