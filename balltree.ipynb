{
 "cells": [
  {
   "cell_type": "markdown",
   "source": [
    "# KNN Classifier using KD-Tree and Ball-Tree"
   ],
   "metadata": {
    "collapsed": false
   },
   "id": "cb0c237cd6636262"
  },
  {
   "cell_type": "markdown",
   "source": [
    "## KD-Tree"
   ],
   "metadata": {
    "collapsed": false
   },
   "id": "b69a758bad9fadf8"
  },
  {
   "cell_type": "code",
   "outputs": [
    {
     "name": "stdout",
     "output_type": "stream",
     "text": [
      "Query Point: [[9 2]]\n",
      "Nearest Neighbors:\n",
      "Neighbor 1: [8 1], Distance: 1.4142135623730951\n",
      "Neighbor 2: [7 2], Distance: 2.0\n"
     ]
    }
   ],
   "source": [
    "from sklearn.neighbors import KDTree\n",
    "import numpy as np\n",
    "\n",
    "# Sample data\n",
    "data = np.array([[2, 3], [5, 4], [9, 6], [4, 7], [8, 1], [7, 2]])\n",
    "\n",
    "# Build KD tree\n",
    "kdtree = KDTree(data, leaf_size=30)\n",
    "\n",
    "# Query the KD tree for nearest neighbors\n",
    "query_point = np.array([[9, 2]])\n",
    "distances, indices = kdtree.query(query_point, k=2)\n",
    "\n",
    "# Print results\n",
    "print(\"Query Point:\", query_point)\n",
    "print(\"Nearest Neighbors:\")\n",
    "for i, idx in enumerate(indices[0]):\n",
    "\tprint(f\"Neighbor {i + 1}: {data[idx]}, Distance: {distances[0][i]}\")\n"
   ],
   "metadata": {
    "collapsed": false,
    "ExecuteTime": {
     "end_time": "2024-01-19T18:04:22.478749Z",
     "start_time": "2024-01-19T18:04:21.545090Z"
    }
   },
   "id": "f7e0117e3d0ced06",
   "execution_count": 1
  },
  {
   "cell_type": "code",
   "outputs": [
    {
     "name": "stdout",
     "output_type": "stream",
     "text": [
      "Dataset:\n",
      "[[2 3]\n",
      " [5 4]\n",
      " [9 6]\n",
      " [8 1]]\n",
      "\n",
      "Ball Tree Structure:\n",
      "<sklearn.neighbors._ball_tree.BallTree object at 0x14014b420>\n",
      "\n",
      "Query Point:\n",
      "[[1 1]]\n",
      "\n",
      "Nearest Neighbor:\n",
      "Index: [0]\n",
      "Point: [[2 3]]\n",
      "Distance: [2.23606798]\n"
     ]
    }
   ],
   "source": [
    "from sklearn.neighbors import BallTree\n",
    "import numpy as np\n",
    "\n",
    "# Sample 2D dataset\n",
    "data = np.array([[2, 3], [5, 4], [9, 6], [8, 1]])\n",
    "\n",
    "# Constructing Ball Tree\n",
    "ball_tree = BallTree(data)\n",
    "\n",
    "# Query point\n",
    "query_point = np.array([[1, 1]])\n",
    "\n",
    "# Finding the nearest neighbor\n",
    "distances, indices = ball_tree.query(query_point, k=1)\n",
    "\n",
    "print(\"Dataset:\")\n",
    "print(data)\n",
    "\n",
    "print(\"\\nBall Tree Structure:\")\n",
    "print(ball_tree)\n",
    "\n",
    "print(\"\\nQuery Point:\")\n",
    "print(query_point)\n",
    "\n",
    "print(\"\\nNearest Neighbor:\")\n",
    "print(\"Index:\", indices[0])\n",
    "print(\"Point:\", data[indices[0]])\n",
    "print(\"Distance:\", distances[0])\n"
   ],
   "metadata": {
    "collapsed": false,
    "ExecuteTime": {
     "end_time": "2024-01-19T23:12:12.655210Z",
     "start_time": "2024-01-19T23:12:12.646235Z"
    }
   },
   "id": "5d2796564208561f",
   "execution_count": 3
  },
  {
   "cell_type": "code",
   "outputs": [],
   "source": [],
   "metadata": {
    "collapsed": false
   },
   "id": "eb17080405a7fea1"
  }
 ],
 "metadata": {
  "kernelspec": {
   "display_name": "Python 3",
   "language": "python",
   "name": "python3"
  },
  "language_info": {
   "codemirror_mode": {
    "name": "ipython",
    "version": 2
   },
   "file_extension": ".py",
   "mimetype": "text/x-python",
   "name": "python",
   "nbconvert_exporter": "python",
   "pygments_lexer": "ipython2",
   "version": "2.7.6"
  }
 },
 "nbformat": 4,
 "nbformat_minor": 5
}
