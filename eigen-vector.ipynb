{
 "cells": [
  {
   "cell_type": "markdown",
   "source": [
    "# Eigen Value && Eigen Vector\n"
   ],
   "metadata": {
    "collapsed": false
   },
   "id": "a0ec2aaf5d8b3e9f"
  },
  {
   "cell_type": "code",
   "outputs": [
    {
     "name": "stdout",
     "output_type": "stream",
     "text": [
      "[-10.          -8.94736842  -7.89473684  -6.84210526  -5.78947368\n",
      "  -4.73684211  -3.68421053  -2.63157895  -1.57894737  -0.52631579\n",
      "   0.52631579   1.57894737   2.63157895   3.68421053   4.73684211\n",
      "   5.78947368   6.84210526   7.89473684   8.94736842  10.        ]\n",
      "[-9.         -7.94736842 -6.89473684 -5.84210526 -4.78947368 -3.73684211\n",
      " -2.68421053 -1.63157895 -0.57894737  0.47368421  1.52631579  2.57894737\n",
      "  3.63157895  4.68421053  5.73684211  6.78947368  7.84210526  8.89473684\n",
      "  9.94736842 11.        ]\n"
     ]
    },
    {
     "data": {
      "text/plain": "<Figure size 640x480 with 1 Axes>",
      "image/png": "[encoded data removed]"
     },
     "metadata": {},
     "output_type": "display_data"
    }
   ],
   "source": [
    "import numpy as np\n",
    "import matplotlib.pyplot as plt\n",
    "\n",
    "%matplotlib inline\n",
    "\n",
    "x = np.linspace(-10, 10, 20)\n",
    "y = x + 1\n",
    "print(x)\n",
    "print(y)\n",
    "\n",
    "\n",
    "plt.grid()\n",
    "plt.plot(x, y, color='r')\n",
    "plt.xlim(-10, 10)\n",
    "plt.ylim(-10, 10)\n",
    "# plt.set_ticks(np.arange(-10, 10, 1))\n",
    "# plt.yaxis.set_ticks(np.arange(-10, 10, 1))\n",
    "plt.show()"
   ],
   "metadata": {
    "collapsed": true,
    "ExecuteTime": {
     "end_time": "2024-01-10T06:56:15.760435Z",
     "start_time": "2024-01-10T06:56:15.713191Z"
    }
   },
   "id": "initial_id",
   "execution_count": 11
  },
  {
   "cell_type": "markdown",
   "source": [
    "# Eigenvalue Decomposition\n",
    "$$ A = UDU^{-1} $$\n",
    "where\n",
    "\n",
    "A is a real square matrix with dimensions . We use real numbers only for the sake of simplicity. Extension to complex numbers is straightforward.\n",
    "U is  square matrix with the eigenvectors of  as column vectors.\n",
    "D is a  diagonal matrix. The diagonal values in  are the eigenvalues of . These are non-negative numbers that are usually presented in decreasing order.\n",
    "\n",
    "$$ A = \\begin{bmatrix} 1 & 2 & 3\\\\ 4 & 5 & 6 \\\\ 7 & 8 & 9 \\end{bmatrix} $$"
   ],
   "metadata": {
    "collapsed": false
   },
   "id": "290526d9fb3bac36"
  },
  {
   "cell_type": "code",
   "outputs": [],
   "source": [
    "# Input test matrix for the eigenvalue decomposition\n",
    "input_matrix = [\n",
    "    [1.0, 2.0, 3.0],\n",
    "    [4.0, 5.0, 6.0],\n",
    "    [7.0, 8.0, 9.0]\n",
    "]\n",
    "import numpy as np\n",
    "\n",
    "D, U = np.linalg.eig(input_matrix)"
   ],
   "metadata": {
    "collapsed": false,
    "ExecuteTime": {
     "end_time": "2024-01-12T00:35:04.155994Z",
     "start_time": "2024-01-12T00:35:03.992270Z"
    }
   },
   "id": "e44a56a0e311df1b",
   "execution_count": 1
  },
  {
   "cell_type": "code",
   "outputs": [
    {
     "data": {
      "text/plain": "array([[1., 2., 3.],\n       [4., 5., 6.],\n       [7., 8., 9.]])"
     },
     "execution_count": 2,
     "metadata": {},
     "output_type": "execute_result"
    }
   ],
   "source": [
    "# UDU^-1\n",
    "# Recompose the input matrix from the eigendecomposition\n",
    "U @ np.diag(D) @ np.linalg.inv(U)"
   ],
   "metadata": {
    "collapsed": false,
    "ExecuteTime": {
     "end_time": "2024-01-12T00:35:26.438333Z",
     "start_time": "2024-01-12T00:35:26.427255Z"
    }
   },
   "id": "9ebe09908c62f7ed",
   "execution_count": 2
  },
  {
   "cell_type": "code",
   "outputs": [
    {
     "data": {
      "text/plain": "array([ -3.73863537,  -8.46653421, -13.19443305])"
     },
     "execution_count": 3,
     "metadata": {},
     "output_type": "execute_result"
    }
   ],
   "source": [
    "# Multiply input matrix by an eigenvector\n",
    "np.array(input_matrix) @ U[:, 0]"
   ],
   "metadata": {
    "collapsed": false,
    "ExecuteTime": {
     "end_time": "2024-01-12T00:36:23.627443Z",
     "start_time": "2024-01-12T00:36:23.622280Z"
    }
   },
   "id": "821ace2768a8c723",
   "execution_count": 3
  },
  {
   "cell_type": "code",
   "outputs": [
    {
     "data": {
      "text/plain": "array([ -3.73863537,  -8.46653421, -13.19443305])"
     },
     "execution_count": 4,
     "metadata": {},
     "output_type": "execute_result"
    }
   ],
   "source": [
    "# Scale the first eigenvector by the first eigenvalue\n",
    "U[:, 0] * D[0]"
   ],
   "metadata": {
    "collapsed": false,
    "ExecuteTime": {
     "end_time": "2024-01-12T00:36:54.486645Z",
     "start_time": "2024-01-12T00:36:54.481092Z"
    }
   },
   "id": "e6b942f55de8fa71",
   "execution_count": 4
  },
  {
   "cell_type": "code",
   "outputs": [],
   "source": [
    "import scipy.linalg\n",
    "\n",
    "D, U = scipy.linalg.eig(input_matrix)\n",
    "U @ np.diag(D) @ scipy.linalg.inv(U)"
   ],
   "metadata": {
    "collapsed": false
   },
   "id": "6b30dd5e7c7d7e2e"
  }
 ],
 "metadata": {
  "kernelspec": {
   "display_name": "Python 3",
   "language": "python",
   "name": "python3"
  },
  "language_info": {
   "codemirror_mode": {
    "name": "ipython",
    "version": 2
   },
   "file_extension": ".py",
   "mimetype": "text/x-python",
   "name": "python",
   "nbconvert_exporter": "python",
   "pygments_lexer": "ipython2",
   "version": "2.7.6"
  }
 },
 "nbformat": 4,
 "nbformat_minor": 5
}
