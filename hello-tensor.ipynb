{
 "cells": [
  {
   "cell_type": "code",
   "execution_count": 1,
   "id": "initial_id",
   "metadata": {
    "collapsed": true,
    "ExecuteTime": {
     "end_time": "2023-12-29T07:55:06.646122Z",
     "start_time": "2023-12-29T07:55:02.830134Z"
    }
   },
   "outputs": [
    {
     "name": "stdout",
     "output_type": "stream",
     "text": [
      "2.15.0\n"
     ]
    }
   ],
   "source": [
    "import tensorflow as tf\n",
    "print(tf.__version__)"
   ]
  },
  {
   "cell_type": "code",
   "outputs": [
    {
     "name": "stdout",
     "output_type": "stream",
     "text": [
      "array([0.1, 0.2, 0.3, 0.4, 0.5, 0.6])\n",
      "1\n",
      "(6,)\n",
      "0.1 0.2 0.6\n",
      "[0.3 0.4 0.5] [0.5]\n",
      "[0.1 0.2] [0.4 0.5 0.6]\n"
     ]
    }
   ],
   "source": [
    "import numpy as np\n",
    "import pprint as pp\n",
    "\n",
    "t = np.array([0.1, 0.2, 0.3, 0.4, 0.5, 0.6])\n",
    "pp.pprint(t)\n",
    "print(t.ndim)  # rank\n",
    "print(t.shape)\n",
    "print(t[0], t[1], t[-1])\n",
    "print(t[2:5], t[4:-1])\n",
    "print(t[:2], t[3:])\n"
   ],
   "metadata": {
    "collapsed": false,
    "ExecuteTime": {
     "end_time": "2023-12-29T07:57:45.465116Z",
     "start_time": "2023-12-29T07:57:45.461750Z"
    }
   },
   "id": "62bf0f42edc7125",
   "execution_count": 3
  },
  {
   "cell_type": "code",
   "outputs": [
    {
     "name": "stdout",
     "output_type": "stream",
     "text": [
      "array([[ 1.,  2.,  3.],\n",
      "       [ 4.,  5.,  6.],\n",
      "       [ 7.,  8.,  9.],\n",
      "       [10., 11., 12.]])\n",
      "2\n",
      "(4, 3)\n"
     ]
    }
   ],
   "source": [
    "t = np.array([[1., 2., 3.], [4., 5., 6.], [7., 8., 9.], [10.,11.,12.]])\n",
    "pp.pprint(t)\n",
    "print(t.ndim)\n",
    "print(t.shape)"
   ],
   "metadata": {
    "collapsed": false,
    "ExecuteTime": {
     "end_time": "2023-12-29T08:00:03.808207Z",
     "start_time": "2023-12-29T08:00:03.805129Z"
    }
   },
   "id": "a2780f6d06c8cba2",
   "execution_count": 6
  },
  {
   "cell_type": "code",
   "outputs": [
    {
     "data": {
      "text/plain": "array([3], dtype=int32)"
     },
     "execution_count": 11,
     "metadata": {},
     "output_type": "execute_result"
    }
   ],
   "source": [
    "t = tf.constant([1., 2., 3.])\n",
    "tf.shape(t).numpy()"
   ],
   "metadata": {
    "collapsed": false,
    "ExecuteTime": {
     "end_time": "2023-12-29T08:03:15.976255Z",
     "start_time": "2023-12-29T08:03:15.973148Z"
    }
   },
   "id": "785fab078a6afd4b",
   "execution_count": 11
  },
  {
   "cell_type": "code",
   "outputs": [
    {
     "data": {
      "text/plain": "array([2, 2], dtype=int32)"
     },
     "execution_count": 12,
     "metadata": {},
     "output_type": "execute_result"
    }
   ],
   "source": [
    "t = tf.constant([[1., 2.], [3.,4.]])\n",
    "tf.shape(t).numpy()"
   ],
   "metadata": {
    "collapsed": false,
    "ExecuteTime": {
     "end_time": "2023-12-29T08:05:10.216261Z",
     "start_time": "2023-12-29T08:05:10.210963Z"
    }
   },
   "id": "262da7ae9f604d04",
   "execution_count": 12
  },
  {
   "cell_type": "markdown",
   "source": [
    "# Neural Network\n",
    " Perceptron => Backpropagation \n",
    " $ f = Wx + b $, $ g = Wx $, $ f = g + b $\n",
    " 1. $ \\frac{\\delta g}{\\delta w} = x$, $ \\frac{\\delta g}{\\delta x} = w $, $ \\frac{\\delta f}{\\delta g} = 1 $, $\\frac{\\delta f}{\\delta b} = 1 $\n",
    " 2. $ \\frac{\\delta f}{\\delta w} = \\frac{\\delta f}{\\delta g} \\cdot \\frac{\\delta g}{\\delta w} = 1 * 5 = 5 $\n",
    " 3. $ \\frac{\\delta f}{\\delta x} = \\frac{\\delta f}{\\delta g} \\cdot \\frac{\\delta g}{\\delta x} = 1 * -2 = -2 $ \n",
    " * forward ( w = -2, x = 5, b = 3)\n",
    " * backward  \n",
    "# Sigmoid\n",
    "$$ g(z) = \\frac{1}{1+e^{-z}} $$\n",
    "z => *(-1) => exp => +(1) =>  inverse (1/x) => g"
   ],
   "metadata": {
    "collapsed": false
   },
   "id": "dfc8db5c979cfd57"
  },
  {
   "cell_type": "code",
   "outputs": [],
   "source": [],
   "metadata": {
    "collapsed": false
   },
   "id": "a7dc689e8978b25c"
  }
 ],
 "metadata": {
  "kernelspec": {
   "display_name": "Python 3",
   "language": "python",
   "name": "python3"
  },
  "language_info": {
   "codemirror_mode": {
    "name": "ipython",
    "version": 2
   },
   "file_extension": ".py",
   "mimetype": "text/x-python",
   "name": "python",
   "nbconvert_exporter": "python",
   "pygments_lexer": "ipython2",
   "version": "2.7.6"
  }
 },
 "nbformat": 4,
 "nbformat_minor": 5
}
