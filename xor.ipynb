{
 "cells": [
  {
   "cell_type": "code",
   "execution_count": 23,
   "id": "initial_id",
   "metadata": {
    "collapsed": true,
    "ExecuteTime": {
     "end_time": "2024-01-04T21:59:36.811528Z",
     "start_time": "2024-01-04T21:59:36.688047Z"
    }
   },
   "outputs": [
    {
     "name": "stdout",
     "output_type": "stream",
     "text": [
      "Final hidden weights: [[0.78081835 5.52367611]\n",
      " [0.78175659 5.58258947]]\n",
      "Final output weights: [[-11.76001124]\n",
      " [  9.1024849 ]]\n",
      "Output from neural network after 10000 epochs: [[0]\n",
      " [1]\n",
      " [1]\n",
      " [0]]\n"
     ]
    }
   ],
   "source": [
    "import numpy as np\n",
    "\n",
    "# Sigmoid function and its derivative\n",
    "def sigmoid(x):\n",
    "    return 1.0 / (1 + np.exp(-x))\n",
    "\n",
    "def sigmoid_derivative(x):\n",
    "    return x * (1 - x)\n",
    "\n",
    "# XOR inputs and expected outputs\n",
    "inputs = np.array([[0, 0], [0, 1], [1, 0], [1, 1]])\n",
    "expected_output = np.array([[0], [1], [1], [0]])\n",
    "\n",
    "# Initialize weights with random values\n",
    "inputLayer_neurons = 2\n",
    "hiddenLayer_neurons = 2\n",
    "outputLayer_neurons = 1\n",
    "\n",
    "hidden_weights = np.random.uniform(size=(inputLayer_neurons, hiddenLayer_neurons))\n",
    "output_weights = np.random.uniform(size=(hiddenLayer_neurons, outputLayer_neurons))\n",
    "\n",
    "# Training the neural network\n",
    "epochs = 10000\n",
    "lr = 0.1\n",
    "\n",
    "for _ in range(epochs):\n",
    "    # Forward Propagation\n",
    "    hidden_layer_activation = np.dot(inputs, hidden_weights)\n",
    "    hidden_layer_output = sigmoid(hidden_layer_activation)\n",
    "\n",
    "    output_layer_activation = np.dot(hidden_layer_output, output_weights)\n",
    "    predicted_output = sigmoid(output_layer_activation)\n",
    "\n",
    "    # Backpropagation\n",
    "    error = expected_output - predicted_output\n",
    "    d_predicted_output = error * sigmoid_derivative(predicted_output)\n",
    "\n",
    "    error_hidden_layer = d_predicted_output.dot(output_weights.T)\n",
    "    d_hidden_layer = error_hidden_layer * sigmoid_derivative(hidden_layer_output)\n",
    "\n",
    "    # Updating Weights\n",
    "    hidden_weights += inputs.T.dot(d_hidden_layer) * lr\n",
    "    output_weights += hidden_layer_output.T.dot(d_predicted_output) * lr\n",
    "\n",
    "\n",
    "def decision(x):\n",
    "    return np.where(x > 0.5, 1, 0)\n",
    "\n",
    "print(f'Final hidden weights: {hidden_weights}')\n",
    "print(f'Final output weights: {output_weights}')\n",
    "print(f'Output from neural network after {epochs} epochs: {decision(predicted_output)}')\n"
   ]
  },
  {
   "cell_type": "code",
   "outputs": [],
   "source": [],
   "metadata": {
    "collapsed": false,
    "ExecuteTime": {
     "end_time": "2024-01-04T18:50:55.832599Z",
     "start_time": "2024-01-04T18:50:55.830156Z"
    }
   },
   "id": "5936e361069b81e6",
   "execution_count": 12
  },
  {
   "cell_type": "code",
   "outputs": [],
   "source": [],
   "metadata": {
    "collapsed": false
   },
   "id": "830ccc073703621"
  }
 ],
 "metadata": {
  "kernelspec": {
   "display_name": "Python 3",
   "language": "python",
   "name": "python3"
  },
  "language_info": {
   "codemirror_mode": {
    "name": "ipython",
    "version": 2
   },
   "file_extension": ".py",
   "mimetype": "text/x-python",
   "name": "python",
   "nbconvert_exporter": "python",
   "pygments_lexer": "ipython2",
   "version": "2.7.6"
  }
 },
 "nbformat": 4,
 "nbformat_minor": 5
}
